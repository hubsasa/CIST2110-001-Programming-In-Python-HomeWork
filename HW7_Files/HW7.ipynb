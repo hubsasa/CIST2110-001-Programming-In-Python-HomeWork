{
 "cells": [
  {
   "cell_type": "markdown",
   "metadata": {},
   "source": [
    "# HW7\n",
    "\n",
    "Name: Huzaifa Zikria "
   ]
  },
  {
   "cell_type": "code",
   "execution_count": 61,
   "metadata": {},
   "outputs": [],
   "source": [
    "# inside of the HW7_Files folder there is a text file called Dracula.txt that we will be using for this assignment\n",
    "\n",
    "# read in the Dracula.txt file and store it in a variable called dracula_text\n",
    "# Note the file is utf-8 encoded\n",
    "\n",
    "with open('Dracula.txt', encoding='utf-8') as file:\n",
    "    dracula_text = file.read()\n"
   ]
  },
  {
   "cell_type": "code",
   "execution_count": 62,
   "metadata": {},
   "outputs": [],
   "source": [
    "# Create a method that will get the text inbetween the Gutenberg and START OF THIS PROJECT GUTENBERG EBOOK DRACULA lines. \n",
    "# Name the method get_text(text) and have it return the text inbetween the two lines.\n",
    "# You can look for the following 2 strings:\n",
    "# *** START OF THE PROJECT GUTENBERG EBOOK DRACULA ***\n",
    "# *** END OF THE PROJECT GUTENBERG EBOOK DRACULA ***\n",
    "# Update the variable called dracula_text that is the result of calling the get_text method on the dracula_text variable\n",
    "\n",
    "def get_text(text):\n",
    "    start_quote =('*** START OF THE PROJECT GUTENBERG EBOOK DRACULA ***')\n",
    "    end_quote = ('*** END OF THE PROJECT GUTENBERG EBOOK DRACULA ***')\n",
    "    \n",
    "    startindex = text.find(start_quote)\n",
    "    endindex = text.find(end_quote)\n",
    "    \n",
    "    \n",
    "    if startindex != -1 and endindex != -1:\n",
    "        return text[startindex + len(start_quote):endindex].strip()\n",
    "    \n",
    "dracula_text = get_text(dracula_text)\n",
    "\n"
   ]
  },
  {
   "cell_type": "code",
   "execution_count": 64,
   "metadata": {},
   "outputs": [],
   "source": [
    "# Clean the text by removing all punctuation and numbers. You can use the replace method to do this. Replace all punctuation and numbers with an empty string.\n",
    "cleanedtext = dracula_text.replace(\".\", \"\").replace(\",\", \"\").replace(\";\", \"\").replace(\":\", \"\").replace(\"!\", \"\").replace(\"?\", \"\").replace(\"(\", \"\").replace(\")\", \"\").replace('\"', \"\").replace(\"'\", \"\").lower().split()\n"
   ]
  },
  {
   "cell_type": "code",
   "execution_count": 87,
   "metadata": {},
   "outputs": [
    {
     "name": "stdout",
     "output_type": "stream",
     "text": [
      "The total number of words in the text is 161415.\n",
      "The total number of unique words in the text is 11953.\n",
      "The word 'vampire' is used 24 times in the text.\n",
      "The name of Chapter 5 is CHAPTER V. Letters—Lucy and Mina.\n",
      "The total number of words in Chapter 5 is 3546.\n",
      "The total number of unique words in Chapter 5 is 1192.\n"
     ]
    }
   ],
   "source": [
    "# Answer the following questions using python code:\n",
    "# 1. What is the total number of words in the text?\n",
    "total_word_count = len(cleanedtext)\n",
    "print(f\"The total number of words in the text is {total_word_count}.\")\n",
    "\n",
    "# 2. What is the total number of unique words in the text?\n",
    "uniquewords = set(cleanedtext)\n",
    "print(f\"The total number of unique words in the text is {len(uniquewords)}.\")\n",
    "\n",
    "# 3. How many times is the word 'vampire' used in the text?\n",
    "vampirecounter = len([word for word in cleanedtext if word == 'vampire'])\n",
    "print(f\"The word 'vampire' is used {vampirecounter} times in the text.\")\n",
    "\n",
    "\n",
    "# 4. What is the name of Chapter 5?\n",
    "# Note in the text chapters are in roman numerals (5 is V)\n",
    "index = dracula_text.find('CHAPTER V')\n",
    "\n",
    "if index != -1:\n",
    "    rest_of_line =dracula_text[index:]\n",
    "    next_newline = rest_of_line.find('\\n')\n",
    "    chapter_name = rest_of_line[:next_newline].strip()\n",
    "    print(f\"The name of Chapter 5 is {chapter_name}.\")\n",
    "    \n",
    "    # 5. What is the total number of words in Chapter 5?\n",
    "    # Hints:\n",
    "    # To get just the text for chapter 5 you can use slicing between the start and end of chapter 5\n",
    "    # To find the start of chapter 5 you can use the find method to find the index of the string 'CHAPTER V'\n",
    "    # To find the end of chapter 5 you can use the find method to find the index of the string 'CHAPTER VI'\n",
    "    # Then you can use slicing to get the text inbetween the start and end of chapter 5\n",
    "    # IE find 'CHAPTER V' : find 'CHAPTER VI'\n",
    "    # Then find the length of the text for the result of the slicing\n",
    "    \n",
    "    def cut_first_n_words(text, n):\n",
    "        count = text.split()\n",
    "        cut_text = ' '.join(count[n:])\n",
    "        return cut_text \n",
    "\n",
    "    cut_dracula_text = cut_first_n_words(dracula_text, 100)\n",
    "\n",
    "\n",
    "    startindex = cut_dracula_text.find('CHAPTER V')\n",
    "    endindex = cut_dracula_text.find('CHAPTER VI')\n",
    "    chapter5 = cut_dracula_text[startindex:endindex]\n",
    "    wordcount = len(chapter5.split())\n",
    "    print(f\"The total number of words in Chapter 5 is {wordcount}.\")\n",
    "\n",
    "# 6. What is the total number of unique words in Chapter 5?\n",
    "    uniquewords = set(chapter5.split())\n",
    "    print(f\"The total number of unique words in Chapter 5 is {len(uniquewords)}.\")\n"
   ]
  }
 ],
 "metadata": {
  "kernelspec": {
   "display_name": "Python 3",
   "language": "python",
   "name": "python3"
  },
  "language_info": {
   "codemirror_mode": {
    "name": "ipython",
    "version": 3
   },
   "file_extension": ".py",
   "mimetype": "text/x-python",
   "name": "python",
   "nbconvert_exporter": "python",
   "pygments_lexer": "ipython3",
   "version": "3.11.5"
  }
 },
 "nbformat": 4,
 "nbformat_minor": 2
}
